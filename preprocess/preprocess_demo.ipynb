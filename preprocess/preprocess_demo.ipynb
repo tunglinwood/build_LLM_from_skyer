{
 "cells": [
  {
   "cell_type": "code",
   "execution_count": 2,
   "metadata": {},
   "outputs": [],
   "source": [
    "import skyer_llm.preprocess as prep\n",
    "\n",
    "p = prep.Preprocess(tokenizer=\"../tokenizer.model\",dst_dir=\"../dataset/token\")"
   ]
  },
  {
   "cell_type": "code",
   "execution_count": 3,
   "metadata": {},
   "outputs": [
    {
     "name": "stdout",
     "output_type": "stream",
     "text": [
      "2021-43_zh_head_0001 is being processed...\n"
     ]
    },
    {
     "name": "stderr",
     "output_type": "stream",
     "text": [
      "496214it [06:27, 1328.60it/s]"
     ]
    }
   ],
   "source": [
    "p(\"../dataset/2021-43_zh_head_0001.jsonl\")"
   ]
  },
  {
   "cell_type": "code",
   "execution_count": 1,
   "metadata": {},
   "outputs": [
    {
     "ename": "ImportError",
     "evalue": "attempted relative import with no known parent package",
     "output_type": "error",
     "traceback": [
      "\u001b[0;31m---------------------------------------------------------------------------\u001b[0m",
      "\u001b[0;31mImportError\u001b[0m                               Traceback (most recent call last)",
      "Cell \u001b[0;32mIn[1], line 2\u001b[0m\n\u001b[1;32m      1\u001b[0m \u001b[38;5;28;01mimport\u001b[39;00m \u001b[38;5;21;01msentencepiece\u001b[39;00m \u001b[38;5;28;01mas\u001b[39;00m \u001b[38;5;21;01msp\u001b[39;00m\n\u001b[0;32m----> 2\u001b[0m \u001b[38;5;28;01mfrom\u001b[39;00m \u001b[38;5;21;01m.\u001b[39;00m\u001b[38;5;21;01m.\u001b[39;00m\u001b[38;5;21;01mdata\u001b[39;00m \u001b[38;5;28;01mimport\u001b[39;00m SkyDataset\n\u001b[1;32m      4\u001b[0m spm \u001b[38;5;241m=\u001b[39m sp\u001b[38;5;241m.\u001b[39mSentencePieceProcessor()\n\u001b[1;32m      5\u001b[0m spm\u001b[38;5;241m.\u001b[39mLoad(\u001b[38;5;124m\"\u001b[39m\u001b[38;5;124m../tokenizer/tokenizer.model\u001b[39m\u001b[38;5;124m\"\u001b[39m)\n",
      "\u001b[0;31mImportError\u001b[0m: attempted relative import with no known parent package"
     ]
    }
   ],
   "source": [
    "import sentencepiece as sp\n",
    "from skyer_llm.data import SkyDataset\n",
    "\n",
    "spm = sp.SentencePieceProcessor()\n",
    "spm.Load(\"../tokenizer/tokenizer.model\")\n",
    "dataset = SkyDataset(\"../dataset/token/2021-43_zh_head_0001\", 128)\n",
    "text = spm.Decode(dataset)\n",
    "print(text)\n"
   ]
  },
  {
   "cell_type": "code",
   "execution_count": null,
   "metadata": {},
   "outputs": [],
   "source": []
  }
 ],
 "metadata": {
  "kernelspec": {
   "display_name": "Python 3",
   "language": "python",
   "name": "python3"
  },
  "language_info": {
   "codemirror_mode": {
    "name": "ipython",
    "version": 3
   },
   "file_extension": ".py",
   "mimetype": "text/x-python",
   "name": "python",
   "nbconvert_exporter": "python",
   "pygments_lexer": "ipython3",
   "version": "3.12.2"
  }
 },
 "nbformat": 4,
 "nbformat_minor": 2
}

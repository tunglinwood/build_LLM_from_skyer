{
 "cells": [
  {
   "cell_type": "markdown",
   "metadata": {},
   "source": [
    "# 文料预处理\n"
   ]
  },
  {
   "cell_type": "markdown",
   "metadata": {},
   "source": [
    "使用`skyer_llm`中的预处理模块`preprocess`以及词量表`tokenizer.model`，将`.jsonl`转成token。"
   ]
  },
  {
   "cell_type": "code",
   "execution_count": 1,
   "metadata": {},
   "outputs": [],
   "source": [
    "import skyer_llm.preprocess as prep\n",
    "\n",
    "p = prep.Preprocess(tokenizer=\"../tokenizer.model\",dst_dir=\"../dataset/token\")"
   ]
  },
  {
   "cell_type": "code",
   "execution_count": 2,
   "metadata": {},
   "outputs": [
    {
     "name": "stdout",
     "output_type": "stream",
     "text": [
      "2021-43_zh_head_0001 is being processed...\n"
     ]
    },
    {
     "name": "stderr",
     "output_type": "stream",
     "text": [
      "1088812it [13:45, 1318.19it/s]\n"
     ]
    },
    {
     "name": "stdout",
     "output_type": "stream",
     "text": [
      "../dataset/token/2021-43_zh_head_0001 is saved...\n"
     ]
    }
   ],
   "source": [
    "p(\"../dataset/2021-43_zh_head_0001.jsonl\")"
   ]
  },
  {
   "cell_type": "markdown",
   "metadata": {},
   "source": [
    "`skyer_llm.data`读入token，使用`sentencepiece`解码输出的token"
   ]
  },
  {
   "cell_type": "code",
   "execution_count": 9,
   "metadata": {},
   "outputs": [
    {
     "name": "stdout",
     "output_type": "stream",
     "text": [
      "[2, 25164, 13589, 19968, 25213, 25746, 25239, 2005, 26426, 25264, 4437, 3786, 2288, 671, 22856, 25217, 8859, 351, 1818, 954, 8663, 25185, 7344, 1206, 25273, 26014, 25189, 2005, 26426, 25264, 4437, 3786, 2288, 25176, 25202, 17790, 25912, 8663, 25818, 13589, 9276, 501, 25189, 1250, 669, 3909, 6618, 25666, 25279, 26426, 2288, 25185, 12441, 25193, 661, 25193, 3882, 3003, 25214, 3540, 1642, 25330, 2321, 25189, 26905, 25170, 3364, 2005, 26426, 25264, 3668, 3786, 2288, 25176, 14849, 26426, 1998, 318, 2288, 25185, 17727, 25222, 25818, 25707, 25217, 25298, 15730, 25189, 25205, 25642, 25634, 26347, 25495, 25418, 26031, 13431, 25298, 27165, 26712, 28031, 22553, 16559, 25176, 26245, 26732, 25546, 2113, 16512, 25421, 26649, 14804, 25176, 1029, 14365, 669, 552, 406, 13431, 25522, 26426, 4990, 26728, 4546, 3191, 2288, 25176, 25887, 25193]\n"
     ]
    }
   ],
   "source": [
    "import sentencepiece as sp\n",
    "from skyer_llm.data import SkyDataset\n",
    "import warnings\n",
    "\n",
    "warnings.filterwarnings(\"ignore\")\n",
    "\n",
    "spm = sp.SentencePieceProcessor()\n",
    "spm.Load(\"../tokenizer.model\")\n",
    "dataset = SkyDataset(\"../dataset/token/2021-43_zh_head_0001\", 128)\n",
    "print(dataset[0].tolist())"
   ]
  },
  {
   "cell_type": "code",
   "execution_count": 10,
   "metadata": {},
   "outputs": [
    {
     "name": "stdout",
     "output_type": "stream",
     "text": [
      "党的十九大把“坚持党对一切工作的领导”,确立为新时代中国特色社会主义的第一个基本方略。坚持党对一切工作的领导,是马克思主义政党的必然要求。这一重要原则在中国共产党领导的革命、建设、改革实践中逐渐形成与完善。\\n提出坚持党对各项工作的领导,是从党建立自己领导的军队和政权为开端的。在率领秋收起义部队开赴井冈山的途中,毛泽东进行了著名的三湾改编,其中一项重要内容就是部队由党的前敌委员会统一领导,班、\n"
     ]
    }
   ],
   "source": [
    "text = spm.Decode(dataset[0].tolist())\n",
    "print(text)"
   ]
  }
 ],
 "metadata": {
  "kernelspec": {
   "display_name": "Python 3",
   "language": "python",
   "name": "python3"
  },
  "language_info": {
   "codemirror_mode": {
    "name": "ipython",
    "version": 3
   },
   "file_extension": ".py",
   "mimetype": "text/x-python",
   "name": "python",
   "nbconvert_exporter": "python",
   "pygments_lexer": "ipython3",
   "version": "3.12.2"
  }
 },
 "nbformat": 4,
 "nbformat_minor": 2
}
